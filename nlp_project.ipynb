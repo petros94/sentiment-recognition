{
  "nbformat": 4,
  "nbformat_minor": 0,
  "metadata": {
    "colab": {
      "name": "nlp_project.ipynb",
      "provenance": [],
      "collapsed_sections": []
    },
    "kernelspec": {
      "name": "python3",
      "display_name": "Python 3"
    },
    "language_info": {
      "name": "python"
    }
  },
  "cells": [
    {
      "cell_type": "code",
      "source": [
        "import spacy\n",
        "import numpy as np\n",
        "from torch.nn import functional as F\n",
        "from sklearn.metrics import precision_recall_fscore_support, confusion_matrix, accuracy_score, f1_score\n",
        "\n",
        "def collate_pad(batch):    \n",
        "  in_ = []\n",
        "  out_ = []\n",
        "  seq_len = []\n",
        "  for x,y in batch:\n",
        "    in_.append(x)\n",
        "    out_.append(y)\n",
        "    seq_len.append(len(x))\n",
        "\n",
        "  return torch.nn.utils.rnn.pad_sequence(in_).cuda(), torch.tensor(out_).cuda(), seq_len \n",
        "\n",
        "\n",
        "def evaluate(model, test_set):\n",
        "  test_dataloader = torch.utils.data.DataLoader(test_set, batch_size=128, collate_fn=collate_pad)\n",
        "\n",
        "  y_pred = []\n",
        "  y_test = []\n",
        "  with torch.no_grad():\n",
        "    model.eval()\n",
        "    valid_loss = 0\n",
        "    loss_counter = 0\n",
        "    for batch, (x,y, seq_len_x) in enumerate(test_dataloader):\n",
        "      x = x.to(device)\n",
        "      y = y.to(device)\n",
        "\n",
        "      y_pred.extend(F.softmax(model(x, seq_len_x)).argmax(-1).cpu().numpy())\n",
        "      y_test.extend(y.cpu().numpy())\n",
        "\n",
        "  print(confusion_matrix(y_test, y_pred))\n",
        "  precision, recall, fscore, support  = precision_recall_fscore_support(y_test, y_pred)\n",
        "  print(\"Accuracy: {}\".format(accuracy_score(y_test, y_pred)))\n",
        "  print(\"f1: {}\".format(f1_score(y_test, y_pred, average='weighted')))\n",
        "  print('precision: {}'.format(precision))\n",
        "  print('recall: {}'.format(recall))\n",
        "  print('fscore: {}'.format(fscore))\n",
        "  print('support: {}'.format(support))\n",
        "\n",
        "def evaluate_svm(model, test_set):\n",
        "  X_test, y_test = test_set['emb_mean'].to_list(), test_set['label'].to_list()\n",
        "  y_pred = model.predict(X_test)\n",
        "\n",
        "  print(confusion_matrix(y_test, y_pred))\n",
        "  precision, recall, fscore, support  = precision_recall_fscore_support(y_test, y_pred)\n",
        "  print(\"Accuracy: {}\".format(accuracy_score(y_test, y_pred)))\n",
        "  print(\"f1: {}\".format(f1_score(y_test, y_pred, average='weighted')))\n",
        "  print('precision: {}'.format(precision))\n",
        "  print('recall: {}'.format(recall))\n",
        "  print('fscore: {}'.format(fscore))\n",
        "  print('support: {}'.format(support))\n",
        "\n",
        "def calculate_embeddings(df):\n",
        "  embeddings = []\n",
        "  sents = df['sentence']\n",
        "  print(len(sents))\n",
        "  for i,sent in enumerate(sents):\n",
        "    if i%1000 == 0:\n",
        "      print(f\"Processing {i} of {len(sents)} ({int(i/len(sents)*100)}%)\")\n",
        "\n",
        "    doc = nlp(sent)\n",
        "    embedding = []\n",
        "    for d in doc:\n",
        "      emb = d.vector\n",
        "      emb.shape = (300,)\n",
        "      embedding.append(emb)\n",
        "\n",
        "    embeddings.append(embedding)\n",
        "\n",
        "  return embeddings\n",
        "\n",
        "def factorize(value):\n",
        "  if value < 0.2:\n",
        "    return 0\n",
        "  elif 0.2 <= value < 0.4:\n",
        "    return 1\n",
        "  elif 0.4<= value < 0.6:\n",
        "    return 2\n",
        "  elif 0.6<= value < 0.8:\n",
        "    return 3\n",
        "  elif 0.8<= value:\n",
        "    return 4\n",
        "\n",
        "labels = {0: 'very negative', 1: 'negative', 2: 'neutral', 3: 'positive', 4: 'very positive'}\n",
        "\n",
        "def predict_sentence(model, sentence):\n",
        "  doc = nlp(sentence)\n",
        "  emb = doc.vector\n",
        "  emb.shape = (300,)\n",
        "  y_pred = model.predict([emb])[0]\n",
        "  return labels[y_pred]\n",
        "\n",
        "def predict(model, dataset, sentence):\n",
        "    model.eval()\n",
        "    input = dataset.embedding(sentence)\n",
        "\n",
        "    with torch.no_grad():\n",
        "      values = []\n",
        "\n",
        "      # Prepare input\n",
        "      length = len(input)\n",
        "      x = torch.tensor(input)\n",
        "      x = torch.nn.utils.rnn.pad_sequence([x])\n",
        "\n",
        "      y_pred = model.forward(x.to(device), [length])\n",
        "\n",
        "      return labels[F.softmax(y_pred).argmax(-1).cpu().numpy()[0]]"
      ],
      "metadata": {
        "id": "mNXYHHFWkGtx"
      },
      "execution_count": 141,
      "outputs": []
    },
    {
      "cell_type": "code",
      "execution_count": null,
      "metadata": {
        "id": "6E_26muz1vFe"
      },
      "outputs": [],
      "source": [
        "import pandas as pd\n",
        "import numpy as np\n",
        "import spacy\n",
        "import os\n",
        "\n",
        "base_directory = 'nlp/stanfordSentimentTreebank/'\n",
        "sentences = pd.read_csv('nlp/stanfordSentimentTreebank/datasetSentences.txt', index_col=\"sentence_index\",\n",
        "                                sep=\"\\t\")\n",
        "splits = pd.read_csv(os.path.join(base_directory, \"datasetSplit.txt\"), index_col=\"sentence_index\")\n",
        "sentences = sentences.join(splits)\n",
        "sentences = sentences.sort_values(by=['splitset_label', 'sentence_index'])\n",
        "sentences.reset_index(inplace=True)\n",
        "\n",
        "sents_df = pd.DataFrame()\n",
        "\n",
        "for i,data in enumerate(['nlp/trees/train.txt', 'nlp/trees/test.txt', 'nlp/trees/dev.txt']):\n",
        "  new = pd.read_csv(data, sep=\"\\t\", header=None)\n",
        "  new = new.apply(lambda it: str(it).split()[1][1], axis=1).to_frame().rename(columns={0: 'label'})\n",
        "  new['set'] = i+1\n",
        "  sents_df = sents_df.append(new)\n",
        "\n",
        "sents_df.reset_index(inplace=True, drop=True)\n",
        "sents_df = pd.concat([sentences, sents_df], axis=1)\n",
        "sents_df.label = sents_df.label.astype(float)\n",
        "sents_df['emb'] = calculate_embeddings(sents_df)\n",
        "sents_df.to_pickle('nlp/sents.pkl')\n"
      ]
    },
    {
      "cell_type": "code",
      "source": [
        "import pandas as pd\n",
        "\n",
        "phrases = pd.read_csv('nlp/stanfordSentimentTreebank/dictionary.txt', header=None,\n",
        "                                sep=\"|\").rename(columns={0: 'sentence', 1: 'phrase_id'})\n",
        "phrase_sentiments = pd.read_csv('nlp/stanfordSentimentTreebank/sentiment_labels.txt',\n",
        "                                sep=\"|\").rename(columns={'phrase ids': 'phrase_id', 'sentiment values': 'label'})\n",
        "phrase_df = pd.merge(phrases, phrase_sentiments, on='phrase_id')\n",
        "phrase_df['emb'] = calculate_embeddings(phrase_df)\n",
        "phrase_df.to_pickle('nlp/phrases.pkl')"
      ],
      "metadata": {
        "id": "QUksZpAaegc7"
      },
      "execution_count": null,
      "outputs": []
    },
    {
      "cell_type": "code",
      "source": [
        "import pandas as pd\n",
        "\n",
        "phrase_df = pd.read_pickle('nlp/phrases.pkl')\n",
        "sents_df = pd.read_pickle('nlp/sents.pkl')\n",
        "\n",
        "phrase_df['emb_mean'] = phrase_df['emb'].apply(lambda it: np.mean(it, axis=0))\n",
        "sents_df['emb_mean'] = sents_df['emb'].apply(lambda it: np.mean(it, axis=0))\n",
        "\n",
        "def factorize(value):\n",
        "  if value < 0.2:\n",
        "    return 0\n",
        "  elif 0.2 <= value < 0.4:\n",
        "    return 1\n",
        "  elif 0.4<= value < 0.6:\n",
        "    return 2\n",
        "  elif 0.6<= value < 0.8:\n",
        "    return 3\n",
        "  elif 0.8<= value:\n",
        "    return 4\n",
        "\n",
        "phrase_df['label'] = phrase_df['label'].apply(factorize)"
      ],
      "metadata": {
        "id": "rwYq27JkR3WT"
      },
      "execution_count": 3,
      "outputs": []
    },
    {
      "cell_type": "code",
      "source": [
        "from sklearn import svm\n",
        "from sklearn.svm import SVC\n",
        "from sklearn.metrics import f1_score, accuracy_score, precision_recall_fscore_support, confusion_matrix\n",
        "from sklearn.base import clone\n",
        "import numpy as np\n",
        "from sklearn.model_selection import train_test_split\n",
        "import time\n",
        "\n",
        "svm_data = {\n",
        "    'n_samples': [],\n",
        "    'acc': [],\n",
        "    'f1': [],\n",
        "    'precision': [],\n",
        "    'recall': [],\n",
        "    'fscore': [],\n",
        "    'support': [],\n",
        "    'confusion': [],\n",
        "    'time': []\n",
        "}\n",
        "\n",
        "df, svm_phrase_test_dataset = train_test_split(phrase_df, test_size=2000, shuffle=True, stratify=phrase_df['label'])\n",
        "X_test, y_test = svm_phrase_test_dataset['emb_mean'].to_list(), svm_phrase_test_dataset['label'].to_list()\n",
        "\n",
        "for frac in [0.001, 0.005, 0.01, 0.02, 0.05]:\n",
        "  svm_phrase_train_dataset = df.sample(frac=frac)\n",
        "\n",
        "  n_samples = len(svm_phrase_train_dataset)\n",
        "  print(\"Train size: \", n_samples)\n",
        "\n",
        "  X_train, y_train = svm_phrase_train_dataset['emb_mean'].to_list(), svm_phrase_train_dataset['label'].to_list()\n",
        "  \n",
        "  svm_model = SVC()\n",
        "  start_time = time.time()\n",
        "  svm_model.fit(X_train, y_train)\n",
        "  print(\"Training complete\")\n",
        "  svm_data['time'].append(time.time()-start_time)\n",
        "\n",
        "  print(\"Evaluating on test set\")\n",
        "  y_pred = svm_model.predict(X_test)\n",
        "  precision, recall, fscore, support  = precision_recall_fscore_support(y_test, y_pred)\n",
        "\n",
        "  svm_data['n_samples'].append(n_samples)\n",
        "  svm_data['acc'].append(accuracy_score(y_test, y_pred))\n",
        "  svm_data['f1'].append(f1_score(y_test, y_pred, average='weighted'))\n",
        "  svm_data['precision'].append(precision)\n",
        "  svm_data['recall'].append(recall)\n",
        "  svm_data['fscore'].append(fscore)  \n",
        "  svm_data['support'].append(support)\n",
        "  svm_data['confusion'].append(confusion_matrix(y_test, y_pred))"
      ],
      "metadata": {
        "colab": {
          "base_uri": "https://localhost:8080/"
        },
        "id": "BoFeB5vI3DS2",
        "outputId": "16cb2674-87e0-4113-ee6a-2d15a6f9966d"
      },
      "execution_count": 52,
      "outputs": [
        {
          "output_type": "stream",
          "name": "stdout",
          "text": [
            "Train size:  11862\n",
            "Training complete\n",
            "Evaluating on test set\n"
          ]
        },
        {
          "output_type": "stream",
          "name": "stderr",
          "text": [
            "/usr/local/lib/python3.7/dist-packages/sklearn/metrics/_classification.py:1248: UndefinedMetricWarning: Precision and F-score are ill-defined and being set to 0.0 in labels with no predicted samples. Use `zero_division` parameter to control this behavior.\n",
            "  _warn_prf(average, modifier, msg_start, len(result))\n"
          ]
        }
      ]
    },
    {
      "cell_type": "code",
      "source": [
        "pd.DataFrame(svm_data)[:-1][['n_samples', 'acc', 'f1', 'time']]"
      ],
      "metadata": {
        "colab": {
          "base_uri": "https://localhost:8080/",
          "height": 206
        },
        "id": "Ldm9T5nv5BmH",
        "outputId": "3bd81e17-df62-4dde-defb-a24a822293de"
      },
      "execution_count": 10,
      "outputs": [
        {
          "output_type": "execute_result",
          "data": {
            "text/html": [
              "\n",
              "  <div id=\"df-eb3863f9-38de-4c4a-a02b-91c1af2ab8f4\">\n",
              "    <div class=\"colab-df-container\">\n",
              "      <div>\n",
              "<style scoped>\n",
              "    .dataframe tbody tr th:only-of-type {\n",
              "        vertical-align: middle;\n",
              "    }\n",
              "\n",
              "    .dataframe tbody tr th {\n",
              "        vertical-align: top;\n",
              "    }\n",
              "\n",
              "    .dataframe thead th {\n",
              "        text-align: right;\n",
              "    }\n",
              "</style>\n",
              "<table border=\"1\" class=\"dataframe\">\n",
              "  <thead>\n",
              "    <tr style=\"text-align: right;\">\n",
              "      <th></th>\n",
              "      <th>n_samples</th>\n",
              "      <th>acc</th>\n",
              "      <th>f1</th>\n",
              "      <th>time</th>\n",
              "    </tr>\n",
              "  </thead>\n",
              "  <tbody>\n",
              "    <tr>\n",
              "      <th>0</th>\n",
              "      <td>237</td>\n",
              "      <td>0.5095</td>\n",
              "      <td>0.357441</td>\n",
              "      <td>0.022918</td>\n",
              "    </tr>\n",
              "    <tr>\n",
              "      <th>1</th>\n",
              "      <td>1186</td>\n",
              "      <td>0.5535</td>\n",
              "      <td>0.474195</td>\n",
              "      <td>0.313549</td>\n",
              "    </tr>\n",
              "    <tr>\n",
              "      <th>2</th>\n",
              "      <td>2372</td>\n",
              "      <td>0.5535</td>\n",
              "      <td>0.466368</td>\n",
              "      <td>1.151901</td>\n",
              "    </tr>\n",
              "    <tr>\n",
              "      <th>3</th>\n",
              "      <td>4745</td>\n",
              "      <td>0.5695</td>\n",
              "      <td>0.502472</td>\n",
              "      <td>4.280180</td>\n",
              "    </tr>\n",
              "    <tr>\n",
              "      <th>4</th>\n",
              "      <td>11862</td>\n",
              "      <td>0.5780</td>\n",
              "      <td>0.517135</td>\n",
              "      <td>24.954232</td>\n",
              "    </tr>\n",
              "  </tbody>\n",
              "</table>\n",
              "</div>\n",
              "      <button class=\"colab-df-convert\" onclick=\"convertToInteractive('df-eb3863f9-38de-4c4a-a02b-91c1af2ab8f4')\"\n",
              "              title=\"Convert this dataframe to an interactive table.\"\n",
              "              style=\"display:none;\">\n",
              "        \n",
              "  <svg xmlns=\"http://www.w3.org/2000/svg\" height=\"24px\"viewBox=\"0 0 24 24\"\n",
              "       width=\"24px\">\n",
              "    <path d=\"M0 0h24v24H0V0z\" fill=\"none\"/>\n",
              "    <path d=\"M18.56 5.44l.94 2.06.94-2.06 2.06-.94-2.06-.94-.94-2.06-.94 2.06-2.06.94zm-11 1L8.5 8.5l.94-2.06 2.06-.94-2.06-.94L8.5 2.5l-.94 2.06-2.06.94zm10 10l.94 2.06.94-2.06 2.06-.94-2.06-.94-.94-2.06-.94 2.06-2.06.94z\"/><path d=\"M17.41 7.96l-1.37-1.37c-.4-.4-.92-.59-1.43-.59-.52 0-1.04.2-1.43.59L10.3 9.45l-7.72 7.72c-.78.78-.78 2.05 0 2.83L4 21.41c.39.39.9.59 1.41.59.51 0 1.02-.2 1.41-.59l7.78-7.78 2.81-2.81c.8-.78.8-2.07 0-2.86zM5.41 20L4 18.59l7.72-7.72 1.47 1.35L5.41 20z\"/>\n",
              "  </svg>\n",
              "      </button>\n",
              "      \n",
              "  <style>\n",
              "    .colab-df-container {\n",
              "      display:flex;\n",
              "      flex-wrap:wrap;\n",
              "      gap: 12px;\n",
              "    }\n",
              "\n",
              "    .colab-df-convert {\n",
              "      background-color: #E8F0FE;\n",
              "      border: none;\n",
              "      border-radius: 50%;\n",
              "      cursor: pointer;\n",
              "      display: none;\n",
              "      fill: #1967D2;\n",
              "      height: 32px;\n",
              "      padding: 0 0 0 0;\n",
              "      width: 32px;\n",
              "    }\n",
              "\n",
              "    .colab-df-convert:hover {\n",
              "      background-color: #E2EBFA;\n",
              "      box-shadow: 0px 1px 2px rgba(60, 64, 67, 0.3), 0px 1px 3px 1px rgba(60, 64, 67, 0.15);\n",
              "      fill: #174EA6;\n",
              "    }\n",
              "\n",
              "    [theme=dark] .colab-df-convert {\n",
              "      background-color: #3B4455;\n",
              "      fill: #D2E3FC;\n",
              "    }\n",
              "\n",
              "    [theme=dark] .colab-df-convert:hover {\n",
              "      background-color: #434B5C;\n",
              "      box-shadow: 0px 1px 3px 1px rgba(0, 0, 0, 0.15);\n",
              "      filter: drop-shadow(0px 1px 2px rgba(0, 0, 0, 0.3));\n",
              "      fill: #FFFFFF;\n",
              "    }\n",
              "  </style>\n",
              "\n",
              "      <script>\n",
              "        const buttonEl =\n",
              "          document.querySelector('#df-eb3863f9-38de-4c4a-a02b-91c1af2ab8f4 button.colab-df-convert');\n",
              "        buttonEl.style.display =\n",
              "          google.colab.kernel.accessAllowed ? 'block' : 'none';\n",
              "\n",
              "        async function convertToInteractive(key) {\n",
              "          const element = document.querySelector('#df-eb3863f9-38de-4c4a-a02b-91c1af2ab8f4');\n",
              "          const dataTable =\n",
              "            await google.colab.kernel.invokeFunction('convertToInteractive',\n",
              "                                                     [key], {});\n",
              "          if (!dataTable) return;\n",
              "\n",
              "          const docLinkHtml = 'Like what you see? Visit the ' +\n",
              "            '<a target=\"_blank\" href=https://colab.research.google.com/notebooks/data_table.ipynb>data table notebook</a>'\n",
              "            + ' to learn more about interactive tables.';\n",
              "          element.innerHTML = '';\n",
              "          dataTable['output_type'] = 'display_data';\n",
              "          await google.colab.output.renderOutput(dataTable, element);\n",
              "          const docLink = document.createElement('div');\n",
              "          docLink.innerHTML = docLinkHtml;\n",
              "          element.appendChild(docLink);\n",
              "        }\n",
              "      </script>\n",
              "    </div>\n",
              "  </div>\n",
              "  "
            ],
            "text/plain": [
              "   n_samples     acc        f1       time\n",
              "0        237  0.5095  0.357441   0.022918\n",
              "1       1186  0.5535  0.474195   0.313549\n",
              "2       2372  0.5535  0.466368   1.151901\n",
              "3       4745  0.5695  0.502472   4.280180\n",
              "4      11862  0.5780  0.517135  24.954232"
            ]
          },
          "metadata": {},
          "execution_count": 10
        }
      ]
    },
    {
      "cell_type": "code",
      "source": [
        "import torch\n",
        "import pandas as pd\n",
        "import spacy\n",
        "from torch import nn\n",
        "from torch.nn import functional as F\n",
        "import torch\n",
        "\n",
        "nlp = spacy.load('en_core_web_lg')\n",
        "\n",
        "class SentimentDataset(torch.utils.data.Dataset):\n",
        "  def __init__(self, dataset) -> None:\n",
        "    super().__init__()\n",
        "    \n",
        "    labels = dataset['label']\n",
        "    sents = dataset['sentence']\n",
        "    emb = dataset['emb']\n",
        "\n",
        "    self.dataset = pd.DataFrame({'emb': emb, 'label': labels})\n",
        "    self.dataset.reset_index(inplace=True)\n",
        "\n",
        "  def embedding(self, sentence):\n",
        "    doc = nlp(sentence)\n",
        "    embeddings = []\n",
        "    for d in doc:\n",
        "      emb = d.vector\n",
        "      emb.shape = (300,)\n",
        "      embeddings.append(emb)\n",
        "    return embeddings\n",
        "  \n",
        "  def __len__(self):\n",
        "    return len(self.dataset)\n",
        "\n",
        "  def __getitem__(self, index):\n",
        "    return (\n",
        "        torch.tensor(self.dataset.loc[index, 'emb']).float(),\n",
        "        torch.tensor(self.dataset.loc[index, 'label'])\n",
        "    )\n",
        "\n",
        "\n",
        "class LSTM_classifier(nn.Module):\n",
        "  def __init__(self, hidden_size, num_layers, output_size, bidirectional) -> None:\n",
        "      super(LSTM_classifier, self).__init__()\n",
        "      self.embedding_dim = 300\n",
        "      self.num_layers = num_layers\n",
        "      self.hidden_size = hidden_size\n",
        "      self.bidirectional = bidirectional\n",
        "      self.lstm = nn.LSTM(input_size = self.embedding_dim, hidden_size=self.hidden_size, num_layers=self.num_layers, bidirectional=bidirectional, dropout=0.2)\n",
        "      self.output_size = output_size\n",
        "      self.fc1 = nn.Linear(in_features=(2 if bidirectional else 1)*self.hidden_size, out_features=128)\n",
        "      self.fc2 = nn.Linear(128, out_features=output_size)\n",
        "\n",
        "  def forward(self, x, seq_len):\n",
        "    x_packed = torch.nn.utils.rnn.pack_padded_sequence(x, seq_len, enforce_sorted=False)\n",
        "    out_packed, (h, c) = self.lstm(x_packed)\n",
        "    x_unpacked, x_lengths = torch.nn.utils.rnn.pad_packed_sequence(out_packed)\n",
        "    cat = torch.cat((h[-1, :, :], h[-2, :, :]), dim=1) if self.bidirectional else h[-1, :, :]\n",
        "    x = self.fc1(cat)\n",
        "    x = F.relu(x)\n",
        "    x = self.fc2(x)\n",
        "    return x.view(-1, self.output_size)"
      ],
      "metadata": {
        "id": "71D_mSPX70D7"
      },
      "execution_count": 46,
      "outputs": []
    },
    {
      "cell_type": "code",
      "source": [
        "import torch\n",
        "import numpy as np\n",
        "import time\n",
        "\n",
        "def train_model(model, train_set, validation_set, max_epochs, batch_size):\n",
        "\n",
        "  evaluation_data = {\n",
        "      'train_loss': [],\n",
        "      'validation_loss': [],\n",
        "  }\n",
        "\n",
        "  # Define model and loss functions\n",
        "  model = model.to(device)\n",
        "  criterion = torch.nn.CrossEntropyLoss()\n",
        "  optimizer = torch.optim.Adam(model.parameters(), lr=0.002)\n",
        "\n",
        "\n",
        "  # Define dataloaders\n",
        "  dataloader = torch.utils.data.DataLoader(train_set, batch_size=batch_size, collate_fn=collate_pad)\n",
        "  validation_dataloader = torch.utils.data.DataLoader(validation_set, batch_size=128, collate_fn=collate_pad)\n",
        "\n",
        "  # Train loop\n",
        "  for epoch in range(max_epochs):\n",
        "    start_time = time.time()\n",
        "    model.train()\n",
        "\n",
        "    ## Train in batches\n",
        "    for batch, (x,y, seq_len_x) in enumerate(dataloader):\n",
        "      if batch%100 == 0:\n",
        "        print(f'Epoch {epoch} - Batch {batch} of {int(len(train_set)/batch_size)}')\n",
        "      optimizer.zero_grad()\n",
        "      x = x.to(device)\n",
        "      y = y.to(device)\n",
        "\n",
        "      y_pred = model(x, seq_len_x)\n",
        "\n",
        "      loss = criterion(y_pred, y)\n",
        "      loss.backward()\n",
        "      optimizer.step()\n",
        "    \n",
        "    \n",
        "    ## Evaluate performance on train set\n",
        "    print(f'Epoch {epoch} - Evaluating train set')\n",
        "    with torch.no_grad():\n",
        "      model.eval()\n",
        "      epoch_loss = 0\n",
        "      loss_counter = 0\n",
        "      for batch, (x,y, seq_len_x) in enumerate(dataloader):\n",
        "        x = x.to(device)\n",
        "        y = y.to(device)\n",
        "\n",
        "        y_pred = model(x, seq_len_x)\n",
        "\n",
        "        loss = criterion(y_pred, y)\n",
        "\n",
        "        epoch_loss += loss.item()\n",
        "        loss_counter +=1\n",
        "\n",
        "      epoch_loss /= loss_counter\n",
        "\n",
        "    ## Evaluate performance on validation set\n",
        "    print(f'Epoch {epoch} - Evaluating validation set')\n",
        "    with torch.no_grad():\n",
        "      model.eval()\n",
        "      valid_loss = 0\n",
        "      loss_counter = 0\n",
        "      for batch, (x,y, seq_len_x) in enumerate(validation_dataloader):\n",
        "        x = x.to(device)\n",
        "        y = y.to(device)\n",
        "\n",
        "        y_pred = model(x, seq_len_x)\n",
        "\n",
        "        loss = criterion(y_pred, y)\n",
        "\n",
        "        valid_loss += loss.item()\n",
        "        loss_counter +=1\n",
        "\n",
        "      valid_loss /= loss_counter\n",
        "\n",
        "    ## update evaluation data\n",
        "    evaluation_data['train_loss'].append(epoch_loss)\n",
        "    evaluation_data['validation_loss'].append(valid_loss)\n",
        "\n",
        "    print(\"Train Epoch {}: Time {}s |  Loss - {} | Validation loss - {}\".format(epoch, int(time.time() - start_time), epoch_loss, valid_loss))\n",
        "    print(\"----------------------------------------\")\n",
        "  return evaluation_data\n"
      ],
      "metadata": {
        "id": "7gCxcNbCFp3E"
      },
      "execution_count": 27,
      "outputs": []
    },
    {
      "cell_type": "code",
      "source": [
        "device = \"cuda\"\n",
        "\n",
        "from sklearn.model_selection import train_test_split\n",
        "\n",
        "nn_phrase_train_dataset, nn_phrase_test_dataset = train_test_split(phrase_df, test_size=0.2, shuffle=True)\n",
        "nn_phrase_validation_dataset, nn_phrase_test_dataset = train_test_split(nn_phrase_test_dataset, test_size=0.5)\n",
        "\n",
        "nn_phrase_train_dataset = SentimentDataset(nn_phrase_train_dataset)\n",
        "nn_phrase_validation_dataset = SentimentDataset(nn_phrase_validation_dataset)\n",
        "nn_phrase_test_dataset = SentimentDataset(nn_phrase_test_dataset)\n",
        "\n",
        "args = {\n",
        "    'max_epochs': 3,\n",
        "    'batch_size': 128,\n",
        "}\n",
        "\n",
        "phase_nn_model_bi = LSTM_classifier(hidden_size=128, num_layers=1, output_size=5, bidirectional=True)\n",
        "phase_nn_model_bi_eval = train_model(phase_nn_model_bi, nn_phrase_train_dataset, nn_phrase_validation_dataset, **args)"
      ],
      "metadata": {
        "colab": {
          "base_uri": "https://localhost:8080/"
        },
        "id": "ZUi2p47hghb9",
        "outputId": "2e28f9a0-d7c5-4827-e667-9b9e1b23283d"
      },
      "execution_count": 57,
      "outputs": [
        {
          "output_type": "stream",
          "name": "stderr",
          "text": [
            "/usr/local/lib/python3.7/dist-packages/torch/nn/modules/rnn.py:65: UserWarning: dropout option adds dropout after all but last recurrent layer, so non-zero dropout expects num_layers greater than 1, but got dropout=0.2 and num_layers=1\n",
            "  \"num_layers={}\".format(dropout, num_layers))\n"
          ]
        },
        {
          "output_type": "stream",
          "name": "stdout",
          "text": [
            "Epoch 0 - Batch 0 of 1495\n",
            "Epoch 0 - Batch 100 of 1495\n",
            "Epoch 0 - Batch 200 of 1495\n",
            "Epoch 0 - Batch 300 of 1495\n",
            "Epoch 0 - Batch 400 of 1495\n",
            "Epoch 0 - Batch 500 of 1495\n",
            "Epoch 0 - Batch 600 of 1495\n",
            "Epoch 0 - Batch 700 of 1495\n",
            "Epoch 0 - Batch 800 of 1495\n",
            "Epoch 0 - Batch 900 of 1495\n",
            "Epoch 0 - Batch 1000 of 1495\n",
            "Epoch 0 - Batch 1100 of 1495\n",
            "Epoch 0 - Batch 1200 of 1495\n",
            "Epoch 0 - Batch 1300 of 1495\n",
            "Epoch 0 - Batch 1400 of 1495\n",
            "Epoch 0 - Evaluating train set\n",
            "Epoch 0 - Evaluating validation set\n",
            "Train Epoch 0: Time 157s |  Loss - 0.7840078087812439 | Validation loss - 0.8220239625895087\n",
            "----------------------------------------\n",
            "Epoch 1 - Batch 0 of 1495\n",
            "Epoch 1 - Batch 100 of 1495\n",
            "Epoch 1 - Batch 200 of 1495\n",
            "Epoch 1 - Batch 300 of 1495\n",
            "Epoch 1 - Batch 400 of 1495\n",
            "Epoch 1 - Batch 500 of 1495\n",
            "Epoch 1 - Batch 600 of 1495\n",
            "Epoch 1 - Batch 700 of 1495\n",
            "Epoch 1 - Batch 800 of 1495\n",
            "Epoch 1 - Batch 900 of 1495\n",
            "Epoch 1 - Batch 1000 of 1495\n",
            "Epoch 1 - Batch 1100 of 1495\n",
            "Epoch 1 - Batch 1200 of 1495\n",
            "Epoch 1 - Batch 1300 of 1495\n",
            "Epoch 1 - Batch 1400 of 1495\n",
            "Epoch 1 - Evaluating train set\n",
            "Epoch 1 - Evaluating validation set\n",
            "Train Epoch 1: Time 154s |  Loss - 0.7051294942829698 | Validation loss - 0.797585425529888\n",
            "----------------------------------------\n",
            "Epoch 2 - Batch 0 of 1495\n",
            "Epoch 2 - Batch 100 of 1495\n",
            "Epoch 2 - Batch 200 of 1495\n",
            "Epoch 2 - Batch 300 of 1495\n",
            "Epoch 2 - Batch 400 of 1495\n",
            "Epoch 2 - Batch 500 of 1495\n",
            "Epoch 2 - Batch 600 of 1495\n",
            "Epoch 2 - Batch 700 of 1495\n",
            "Epoch 2 - Batch 800 of 1495\n",
            "Epoch 2 - Batch 900 of 1495\n",
            "Epoch 2 - Batch 1000 of 1495\n",
            "Epoch 2 - Batch 1100 of 1495\n",
            "Epoch 2 - Batch 1200 of 1495\n",
            "Epoch 2 - Batch 1300 of 1495\n",
            "Epoch 2 - Batch 1400 of 1495\n",
            "Epoch 2 - Evaluating train set\n",
            "Epoch 2 - Evaluating validation set\n",
            "Train Epoch 2: Time 154s |  Loss - 0.6399400270280035 | Validation loss - 0.7999701659309673\n",
            "----------------------------------------\n"
          ]
        }
      ]
    },
    {
      "cell_type": "code",
      "source": [
        "test_set = sents_df[sents_df.splitset_label == 2]\n",
        "print('Evaluate on phrases')\n",
        "print(evaluate_svm(svm_model, svm_phrase_test_dataset))\n",
        "print('Evaluate on sents')\n",
        "print(evaluate_svm(svm_model, test_set))"
      ],
      "metadata": {
        "colab": {
          "base_uri": "https://localhost:8080/"
        },
        "id": "AsmA9Kfi00J6",
        "outputId": "dd9335dd-837d-4ef3-b556-1433cfe76355"
      },
      "execution_count": 53,
      "outputs": [
        {
          "output_type": "stream",
          "name": "stdout",
          "text": [
            "Evaluate on phrases\n",
            "[[  0  40  54   1   0]\n",
            " [  1  97 243  19   0]\n",
            " [  0  47 897  55   0]\n",
            " [  0   8 226 185   0]\n",
            " [  0   0  31  96   0]]\n",
            "Accuracy: 0.5895\n",
            "f1: 0.5290365509345394\n",
            "precision: [0.         0.50520833 0.61819435 0.51966292 0.        ]\n",
            "recall: [0.         0.26944444 0.8978979  0.44152745 0.        ]\n",
            "fscore: [0.         0.35144928 0.7322449  0.47741935 0.        ]\n",
            "support: [ 95 360 999 419 127]\n",
            "None\n",
            "Evaluate on sents\n"
          ]
        },
        {
          "output_type": "stream",
          "name": "stderr",
          "text": [
            "/usr/local/lib/python3.7/dist-packages/sklearn/metrics/_classification.py:1248: UndefinedMetricWarning: Precision and F-score are ill-defined and being set to 0.0 in labels with no predicted samples. Use `zero_division` parameter to control this behavior.\n",
            "  _warn_prf(average, modifier, msg_start, len(result))\n"
          ]
        },
        {
          "output_type": "stream",
          "name": "stdout",
          "text": [
            "[[  0  98 167  14   0]\n",
            " [  0 151 429  53   0]\n",
            " [  0  31 285  73   0]\n",
            " [  0  16 243 251   0]\n",
            " [  0   3 121 275   0]]\n",
            "Accuracy: 0.31085972850678734\n",
            "f1: 0.25272194115693986\n",
            "precision: [0.         0.50501672 0.22891566 0.37687688 0.        ]\n",
            "recall: [0.         0.2385466  0.73264781 0.49215686 0.        ]\n",
            "fscore: [0.         0.32403433 0.34883721 0.42687075 0.        ]\n",
            "support: [279 633 389 510 399]\n",
            "None\n"
          ]
        },
        {
          "output_type": "stream",
          "name": "stderr",
          "text": [
            "/usr/local/lib/python3.7/dist-packages/sklearn/metrics/_classification.py:1248: UndefinedMetricWarning: Precision and F-score are ill-defined and being set to 0.0 in labels with no predicted samples. Use `zero_division` parameter to control this behavior.\n",
            "  _warn_prf(average, modifier, msg_start, len(result))\n"
          ]
        }
      ]
    },
    {
      "cell_type": "code",
      "source": [
        "print(\"Evaluation on sentences\")\n",
        "test = sents_df[sents_df.splitset_label == 2]\n",
        "sents_test_dataset = SentimentDataset(test)\n",
        "\n",
        "evaluate(phase_nn_model_bi, sents_test_dataset)"
      ],
      "metadata": {
        "colab": {
          "base_uri": "https://localhost:8080/"
        },
        "id": "StWmmvswT_Z0",
        "outputId": "49bec500-cb82-4557-c510-d82ccedb3084"
      },
      "execution_count": 59,
      "outputs": [
        {
          "output_type": "stream",
          "name": "stdout",
          "text": [
            "Evaluation on sentences\n"
          ]
        },
        {
          "output_type": "stream",
          "name": "stderr",
          "text": [
            "/usr/local/lib/python3.7/dist-packages/ipykernel_launcher.py:47: UserWarning: Implicit dimension choice for softmax has been deprecated. Change the call to include dim=X as an argument.\n"
          ]
        },
        {
          "output_type": "stream",
          "name": "stdout",
          "text": [
            "[[ 58 212   9   0   0]\n",
            " [ 26 467 129  10   1]\n",
            " [  1 122 189  75   2]\n",
            " [  0  10  75 379  46]\n",
            " [  0   0  12 187 200]]\n",
            "Accuracy: 0.5850678733031675\n",
            "f1: 0.5704657439513451\n",
            "precision: [0.68235294 0.57583231 0.45652174 0.58218126 0.80321285]\n",
            "recall: [0.2078853  0.73775671 0.48586118 0.74313725 0.50125313]\n",
            "fscore: [0.31868132 0.6468144  0.47073474 0.65288544 0.61728395]\n",
            "support: [279 633 389 510 399]\n"
          ]
        }
      ]
    },
    {
      "cell_type": "code",
      "source": [
        "print(\"Evaluation on phrases\")\n",
        "evaluate(phase_nn_model_bi, nn_phrase_test_dataset)"
      ],
      "metadata": {
        "colab": {
          "base_uri": "https://localhost:8080/"
        },
        "id": "OHJoHQdm5KEE",
        "outputId": "0371c6a1-e321-49fa-cafc-074cc6d04391"
      },
      "execution_count": 60,
      "outputs": [
        {
          "output_type": "stream",
          "name": "stdout",
          "text": [
            "Evaluation on phrases\n"
          ]
        },
        {
          "output_type": "stream",
          "name": "stderr",
          "text": [
            "/usr/local/lib/python3.7/dist-packages/ipykernel_launcher.py:47: UserWarning: Implicit dimension choice for softmax has been deprecated. Change the call to include dim=X as an argument.\n"
          ]
        },
        {
          "output_type": "stream",
          "name": "stdout",
          "text": [
            "[[  171   881    81     2     0]\n",
            " [   72  2672  1558    47     0]\n",
            " [   19  1086 10031   780     6]\n",
            " [    1   108  1947  2732   239]\n",
            " [    0     5   100   881   505]]\n",
            "Accuracy: 0.6734241765591038\n",
            "f1: 0.6576171457861136\n",
            "precision: [0.65019011 0.56228956 0.73128235 0.61503827 0.67333333]\n",
            "recall: [0.15066079 0.61439411 0.84138567 0.54346529 0.33869886]\n",
            "fscore: [0.24463519 0.58718822 0.78247982 0.57704087 0.45069166]\n",
            "support: [ 1135  4349 11922  5027  1491]\n"
          ]
        }
      ]
    },
    {
      "cell_type": "code",
      "source": [
        "print(\"BiLSTM predictions\")\n",
        "print(\"'Bad product, not good at all':\", predict(phase_nn_model_bi, nn_phrase_train_dataset, \"Bad product, not good at all\"))\n",
        "print(\"'Good product, not bad at all':\", predict(phase_nn_model_bi, nn_phrase_train_dataset, \"Good product, not bad at all\"))\n",
        "print(\"'I don't think that the movie was good':\", predict(phase_nn_model_bi, nn_phrase_train_dataset, \"I don't think that the movie was good\"))\n",
        "print(\"'I think that the movie was worth watching':\", predict(phase_nn_model_bi, nn_phrase_train_dataset, \"I think that the movie was worth watching\"))\n",
        "print(\"'I think that the movie, which my father told me about, was worth watching':\", predict(phase_nn_model_bi, nn_phrase_train_dataset, \"I think that the movie, which my father told me about, was worth watching\"))\n",
        "print(\"'Not good, not bad':\", predict(phase_nn_model_bi, nn_phrase_train_dataset, \"Not good, not bad\"))\n",
        "print(\"'It's the exact opposite of great!':\", predict(phase_nn_model_bi, nn_phrase_train_dataset, \"It's the exact opposite of great!\"))\n",
        "print(\"'The movie seemed bad in the beginning, but I was mistaken. It turned out to be amazing in the end.':\", predict(phase_nn_model_bi, nn_phrase_train_dataset, \"The movie seemed bad in the beginning, but I was mistaken. It turned out to be amazing in the end.\"))"
      ],
      "metadata": {
        "colab": {
          "base_uri": "https://localhost:8080/"
        },
        "id": "6pnes3bnXFRC",
        "outputId": "97d8e063-86db-4435-9696-4a5380e92724"
      },
      "execution_count": 184,
      "outputs": [
        {
          "output_type": "stream",
          "name": "stdout",
          "text": [
            "BiLSTM predictions\n",
            "'Bad product, not good at all': negative\n",
            "'Good product, not bad at all': positive\n",
            "'I don't think that the movie was good': negative\n",
            "'I think that the movie was worth watching': positive\n",
            "'I think that the movie, which my father told me about, was worth watching': neutral\n",
            "'Not good, not bad': neutral\n",
            "'It's the exact opposite of great!': positive\n",
            "'The movie seemed bad in the beginning, but I was mistaken. It turned out to be amazing in the end.': neutral\n"
          ]
        },
        {
          "output_type": "stream",
          "name": "stderr",
          "text": [
            "/usr/local/lib/python3.7/dist-packages/ipykernel_launcher.py:110: UserWarning: Implicit dimension choice for softmax has been deprecated. Change the call to include dim=X as an argument.\n"
          ]
        }
      ]
    },
    {
      "cell_type": "code",
      "source": [
        "print(\"SVM predictions\")\n",
        "print(predict_sentence(svm_model, \"Amazing product!\"))\n",
        "print(predict_sentence(svm_model, \"Not bad\"))\n",
        "print(predict_sentence(svm_model, \"Good product, not bad at all\"))"
      ],
      "metadata": {
        "colab": {
          "base_uri": "https://localhost:8080/"
        },
        "id": "cwOamiEx25vd",
        "outputId": "083e784d-ec2e-4ec9-ac24-ff657d032bf9"
      },
      "execution_count": 143,
      "outputs": [
        {
          "output_type": "stream",
          "name": "stdout",
          "text": [
            "SVM predictions\n",
            "positive\n",
            "negative\n",
            "negative\n"
          ]
        }
      ]
    }
  ]
}